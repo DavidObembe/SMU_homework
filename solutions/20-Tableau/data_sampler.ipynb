{
 "cells": [
  {
   "cell_type": "code",
   "execution_count": 1,
   "metadata": {},
   "outputs": [],
   "source": [
    "import pandas as pd\n",
    "import random"
   ]
  },
  {
   "cell_type": "code",
   "execution_count": 4,
   "metadata": {},
   "outputs": [
    {
     "name": "stdout",
     "output_type": "stream",
     "text": [
      "01\n",
      "02\n",
      "03\n",
      "04\n",
      "05\n",
      "06\n",
      "07\n",
      "08\n",
      "09\n",
      "10\n",
      "11\n",
      "12\n"
     ]
    }
   ],
   "source": [
    "df = pd.DataFrame()\n",
    "\n",
    "year = \"2019\" \n",
    "for month in [\"01\", \"02\", \"03\", \"04\", \"05\", \"06\", \"07\", \"08\", \"09\", \"10\", \"11\", \"12\"]: #change if not using all months\n",
    "    temp = pd.read_csv(f\"Data\\{year}{month}-citibike-tripdata.csv\")\n",
    "    temp = temp.sample(frac=.1, random_state = 42)\n",
    "    #append to master\n",
    "    df = df.append(temp)\n",
    "    print(month)"
   ]
  },
  {
   "cell_type": "code",
   "execution_count": 5,
   "metadata": {},
   "outputs": [
    {
     "data": {
      "text/html": [
       "<div>\n",
       "<style scoped>\n",
       "    .dataframe tbody tr th:only-of-type {\n",
       "        vertical-align: middle;\n",
       "    }\n",
       "\n",
       "    .dataframe tbody tr th {\n",
       "        vertical-align: top;\n",
       "    }\n",
       "\n",
       "    .dataframe thead th {\n",
       "        text-align: right;\n",
       "    }\n",
       "</style>\n",
       "<table border=\"1\" class=\"dataframe\">\n",
       "  <thead>\n",
       "    <tr style=\"text-align: right;\">\n",
       "      <th></th>\n",
       "      <th>tripduration</th>\n",
       "      <th>starttime</th>\n",
       "      <th>stoptime</th>\n",
       "      <th>start station id</th>\n",
       "      <th>start station name</th>\n",
       "      <th>start station latitude</th>\n",
       "      <th>start station longitude</th>\n",
       "      <th>end station id</th>\n",
       "      <th>end station name</th>\n",
       "      <th>end station latitude</th>\n",
       "      <th>end station longitude</th>\n",
       "      <th>bikeid</th>\n",
       "      <th>usertype</th>\n",
       "      <th>birth year</th>\n",
       "      <th>gender</th>\n",
       "    </tr>\n",
       "  </thead>\n",
       "  <tbody>\n",
       "    <tr>\n",
       "      <th>943360</th>\n",
       "      <td>574</td>\n",
       "      <td>2019-01-30 17:30:59.7870</td>\n",
       "      <td>2019-01-30 17:40:34.2530</td>\n",
       "      <td>359.0</td>\n",
       "      <td>E 47 St &amp; Park Ave</td>\n",
       "      <td>40.755103</td>\n",
       "      <td>-73.974987</td>\n",
       "      <td>528.0</td>\n",
       "      <td>2 Ave &amp; E 31 St</td>\n",
       "      <td>40.742909</td>\n",
       "      <td>-73.977061</td>\n",
       "      <td>33216</td>\n",
       "      <td>Subscriber</td>\n",
       "      <td>1993</td>\n",
       "      <td>1</td>\n",
       "    </tr>\n",
       "    <tr>\n",
       "      <th>735398</th>\n",
       "      <td>709</td>\n",
       "      <td>2019-01-23 19:28:12.1530</td>\n",
       "      <td>2019-01-23 19:40:01.7030</td>\n",
       "      <td>493.0</td>\n",
       "      <td>W 45 St &amp; 6 Ave</td>\n",
       "      <td>40.756800</td>\n",
       "      <td>-73.982912</td>\n",
       "      <td>3159.0</td>\n",
       "      <td>W 67 St &amp; Broadway</td>\n",
       "      <td>40.774925</td>\n",
       "      <td>-73.982666</td>\n",
       "      <td>16092</td>\n",
       "      <td>Subscriber</td>\n",
       "      <td>1990</td>\n",
       "      <td>1</td>\n",
       "    </tr>\n",
       "    <tr>\n",
       "      <th>822038</th>\n",
       "      <td>1993</td>\n",
       "      <td>2019-01-26 18:30:29.2160</td>\n",
       "      <td>2019-01-26 19:03:43.0780</td>\n",
       "      <td>503.0</td>\n",
       "      <td>E 20 St &amp; Park Ave</td>\n",
       "      <td>40.738274</td>\n",
       "      <td>-73.987520</td>\n",
       "      <td>3709.0</td>\n",
       "      <td>W 15 St &amp; 6 Ave</td>\n",
       "      <td>40.738046</td>\n",
       "      <td>-73.996430</td>\n",
       "      <td>34868</td>\n",
       "      <td>Subscriber</td>\n",
       "      <td>1977</td>\n",
       "      <td>1</td>\n",
       "    </tr>\n",
       "    <tr>\n",
       "      <th>158049</th>\n",
       "      <td>392</td>\n",
       "      <td>2019-01-05 18:31:40.6190</td>\n",
       "      <td>2019-01-05 18:38:13.1980</td>\n",
       "      <td>161.0</td>\n",
       "      <td>LaGuardia Pl &amp; W 3 St</td>\n",
       "      <td>40.729170</td>\n",
       "      <td>-73.998102</td>\n",
       "      <td>438.0</td>\n",
       "      <td>St Marks Pl &amp; 1 Ave</td>\n",
       "      <td>40.727791</td>\n",
       "      <td>-73.985649</td>\n",
       "      <td>31405</td>\n",
       "      <td>Subscriber</td>\n",
       "      <td>1996</td>\n",
       "      <td>1</td>\n",
       "    </tr>\n",
       "    <tr>\n",
       "      <th>721464</th>\n",
       "      <td>543</td>\n",
       "      <td>2019-01-23 15:24:24.9240</td>\n",
       "      <td>2019-01-23 15:33:28.8630</td>\n",
       "      <td>3496.0</td>\n",
       "      <td>1 Ave &amp; E 110 St</td>\n",
       "      <td>40.792327</td>\n",
       "      <td>-73.938300</td>\n",
       "      <td>3671.0</td>\n",
       "      <td>E 81 St &amp; 2 Ave</td>\n",
       "      <td>40.774779</td>\n",
       "      <td>-73.954275</td>\n",
       "      <td>35695</td>\n",
       "      <td>Subscriber</td>\n",
       "      <td>1998</td>\n",
       "      <td>1</td>\n",
       "    </tr>\n",
       "  </tbody>\n",
       "</table>\n",
       "</div>"
      ],
      "text/plain": [
       "        tripduration                 starttime                  stoptime  \\\n",
       "943360           574  2019-01-30 17:30:59.7870  2019-01-30 17:40:34.2530   \n",
       "735398           709  2019-01-23 19:28:12.1530  2019-01-23 19:40:01.7030   \n",
       "822038          1993  2019-01-26 18:30:29.2160  2019-01-26 19:03:43.0780   \n",
       "158049           392  2019-01-05 18:31:40.6190  2019-01-05 18:38:13.1980   \n",
       "721464           543  2019-01-23 15:24:24.9240  2019-01-23 15:33:28.8630   \n",
       "\n",
       "        start station id     start station name  start station latitude  \\\n",
       "943360             359.0     E 47 St & Park Ave               40.755103   \n",
       "735398             493.0        W 45 St & 6 Ave               40.756800   \n",
       "822038             503.0     E 20 St & Park Ave               40.738274   \n",
       "158049             161.0  LaGuardia Pl & W 3 St               40.729170   \n",
       "721464            3496.0       1 Ave & E 110 St               40.792327   \n",
       "\n",
       "        start station longitude  end station id     end station name  \\\n",
       "943360               -73.974987           528.0      2 Ave & E 31 St   \n",
       "735398               -73.982912          3159.0   W 67 St & Broadway   \n",
       "822038               -73.987520          3709.0      W 15 St & 6 Ave   \n",
       "158049               -73.998102           438.0  St Marks Pl & 1 Ave   \n",
       "721464               -73.938300          3671.0      E 81 St & 2 Ave   \n",
       "\n",
       "        end station latitude  end station longitude  bikeid    usertype  \\\n",
       "943360             40.742909             -73.977061   33216  Subscriber   \n",
       "735398             40.774925             -73.982666   16092  Subscriber   \n",
       "822038             40.738046             -73.996430   34868  Subscriber   \n",
       "158049             40.727791             -73.985649   31405  Subscriber   \n",
       "721464             40.774779             -73.954275   35695  Subscriber   \n",
       "\n",
       "        birth year  gender  \n",
       "943360        1993       1  \n",
       "735398        1990       1  \n",
       "822038        1977       1  \n",
       "158049        1996       1  \n",
       "721464        1998       1  "
      ]
     },
     "execution_count": 5,
     "metadata": {},
     "output_type": "execute_result"
    }
   ],
   "source": [
    "df.head()"
   ]
  },
  {
   "cell_type": "code",
   "execution_count": 6,
   "metadata": {},
   "outputs": [
    {
     "data": {
      "text/plain": [
       "2055168"
      ]
     },
     "execution_count": 6,
     "metadata": {},
     "output_type": "execute_result"
    }
   ],
   "source": [
    "len(df) "
   ]
  },
  {
   "cell_type": "code",
   "execution_count": 8,
   "metadata": {},
   "outputs": [],
   "source": [
    " df.to_csv(\"data_to_visualize_citibike.csv\", index=False)"
   ]
  }
 ],
 "metadata": {
  "kernelspec": {
   "display_name": "Python 3",
   "language": "python",
   "name": "python3"
  },
  "language_info": {
   "codemirror_mode": {
    "name": "ipython",
    "version": 3
   },
   "file_extension": ".py",
   "mimetype": "text/x-python",
   "name": "python",
   "nbconvert_exporter": "python",
   "pygments_lexer": "ipython3",
   "version": "3.7.7"
  }
 },
 "nbformat": 4,
 "nbformat_minor": 4
}
